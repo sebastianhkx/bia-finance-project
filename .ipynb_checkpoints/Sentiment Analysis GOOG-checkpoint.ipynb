{
 "cells": [
  {
   "cell_type": "markdown",
   "metadata": {},
   "source": [
    "## 1. Extract headlines from Finviz"
   ]
  },
  {
   "cell_type": "code",
   "execution_count": 29,
   "metadata": {},
   "outputs": [],
   "source": [
    "from bs4 import BeautifulSoup\n",
    "from pprint import pprint\n",
    "import requests\n",
    "import pandas as pd\n",
    "\n",
    "Ticker = \"GOOG\"\n",
    "url = \"https://finviz.com/quote.ashx?t=\"+ Ticker\n",
    "\n",
    "response = requests.get(url)\n",
    "soup = BeautifulSoup(response.text, 'html.parser')\n",
    "\n",
    "html_tables =[]\n",
    "for data in soup:\n",
    "    data = soup.find(id='news-table')\n",
    "    html_tables.append(data)\n",
    "\n"
   ]
  },
  {
   "cell_type": "markdown",
   "metadata": {},
   "source": [
    "## 2. Format data"
   ]
  },
  {
   "cell_type": "code",
   "execution_count": 30,
   "metadata": {},
   "outputs": [],
   "source": [
    "# Hold the parsed news into a list\n",
    "parsed_news = []\n",
    "# Iterate through the news\n",
    "for news_table in html_tables:\n",
    "    # Iterate through all tr tags in 'news_table'\n",
    "    for x in news_table.findAll('tr'):\n",
    "        # Read the text from the tr tag into text\n",
    "        text = x.get_text() \n",
    "        # Split the text in the td tag into a list \n",
    "        date_scrape = x.td.text.split()\n",
    "#         print(date_scrape)\n",
    "        # If the length of 'date_scrape' is 1, load 'time' as the only element\n",
    "        # If not, load 'date' as the 1st element and 'time' as the second\n",
    "        if len(date_scrape) == 1:\n",
    "            time = date_scrape[0]\n",
    "        else:\n",
    "            date = date_scrape[0]\n",
    "            time = date_scrape[1]\n",
    "\n",
    "        parsed_news.append([date, time, x.a.text])"
   ]
  },
  {
   "cell_type": "markdown",
   "metadata": {},
   "source": [
    "## 3. NLTK VADER for sentiment analysis"
   ]
  },
  {
   "cell_type": "code",
   "execution_count": 31,
   "metadata": {
    "scrolled": true
   },
   "outputs": [
    {
     "name": "stdout",
     "output_type": "stream",
     "text": [
      "Requirement already satisfied: vaderSentiment in /Library/Frameworks/Python.framework/Versions/3.6/lib/python3.6/site-packages (3.2.1)\r\n"
     ]
    }
   ],
   "source": [
    "# NLTK VADER for sentiment analysis\n",
    "!pip install vaderSentiment\n",
    "from vaderSentiment.vaderSentiment import SentimentIntensityAnalyzer\n",
    "\n",
    "# New words and values\n",
    "new_words = {\n",
    "    'crushes': 10,\n",
    "    'beats': 5,\n",
    "    'misses': -5,\n",
    "    'trouble': -10,\n",
    "    'falls': -100,\n",
    "}\n",
    "# Instantiate the sentiment intensity analyzer with the existing lexicon\n",
    "vader = SentimentIntensityAnalyzer()\n",
    "# Update the lexicon\n",
    "# nltk.download('stopwords')\n",
    "vader.lexicon.update(new_words)"
   ]
  },
  {
   "cell_type": "markdown",
   "metadata": {},
   "source": [
    "## 4. Combine scores with original dataframe"
   ]
  },
  {
   "cell_type": "code",
   "execution_count": 32,
   "metadata": {
    "scrolled": true
   },
   "outputs": [],
   "source": [
    "# Use these column names\n",
    "columns = ['date', 'time', 'headline']\n",
    "# Convert the list of lists into a DataFrame\n",
    "scored_news = pd.DataFrame(parsed_news,columns=columns)\n",
    "# Iterate through the headlines and get the polarity scores\n",
    "scores = [vader.polarity_scores(news[2]) for news in parsed_news]\n",
    "# Convert the list of dicts into a DataFrame\n",
    "scores_df = pd.DataFrame(scores)\n",
    "# Join the DataFrames\n",
    "scored_news = scored_news.join(scores_df)\n",
    "# Convert the date column from string to datetime\n",
    "scored_news['date'] = pd.to_datetime(scored_news.date).dt.date"
   ]
  },
  {
   "cell_type": "markdown",
   "metadata": {},
   "source": [
    "## 5. Preliminary visualization of scores"
   ]
  },
  {
   "cell_type": "code",
   "execution_count": 33,
   "metadata": {},
   "outputs": [
    {
     "data": {
      "text/plain": [
       "<matplotlib.axes._subplots.AxesSubplot at 0x11b0959e8>"
      ]
     },
     "execution_count": 33,
     "metadata": {},
     "output_type": "execute_result"
    },
    {
     "data": {
      "image/png": "[encoded data removed]",
      "text/plain": [
       "<Figure size 432x288 with 1 Axes>"
      ]
     },
     "metadata": {
      "needs_background": "light"
     },
     "output_type": "display_data"
    }
   ],
   "source": [
    "import matplotlib.pyplot as plt\n",
    "plt.style.use(\"fivethirtyeight\")\n",
    "%matplotlib inline\n",
    "\n",
    "# Group by date and ticker columns from scored_news and calculate the mean\n",
    "mean_c = scored_news.groupby(['date']).mean()\n",
    "# Unstack the column ticker\n",
    "mean_c = mean_c.unstack(1)\n",
    "# Get the cross-section of compound in the 'columns' axis\n",
    "mean_c = mean_c['compound']\n",
    "# Plot a bar chart with pandas\n",
    "mean_c.head()\n",
    "mean_c.plot.bar()"
   ]
  },
  {
   "cell_type": "markdown",
   "metadata": {},
   "source": [
    "## 6. Remove duplicated headlines"
   ]
  },
  {
   "cell_type": "code",
   "execution_count": 34,
   "metadata": {
    "scrolled": true
   },
   "outputs": [
    {
     "name": "stdout",
     "output_type": "stream",
     "text": [
      "Before we had 6700 headlines, now we have 97\n"
     ]
    },
    {
     "data": {
      "text/html": [
       "<div>\n",
       "<style scoped>\n",
       "    .dataframe tbody tr th:only-of-type {\n",
       "        vertical-align: middle;\n",
       "    }\n",
       "\n",
       "    .dataframe tbody tr th {\n",
       "        vertical-align: top;\n",
       "    }\n",
       "\n",
       "    .dataframe thead th {\n",
       "        text-align: right;\n",
       "    }\n",
       "</style>\n",
       "<table border=\"1\" class=\"dataframe\">\n",
       "  <thead>\n",
       "    <tr style=\"text-align: right;\">\n",
       "      <th></th>\n",
       "      <th>date</th>\n",
       "      <th>time</th>\n",
       "      <th>headline</th>\n",
       "      <th>compound</th>\n",
       "      <th>neg</th>\n",
       "      <th>neu</th>\n",
       "      <th>pos</th>\n",
       "    </tr>\n",
       "  </thead>\n",
       "  <tbody>\n",
       "    <tr>\n",
       "      <th>0</th>\n",
       "      <td>2019-10-16</td>\n",
       "      <td>03:36AM</td>\n",
       "      <td>Huawei Defies U.S. Ban With Strong Growth in S...</td>\n",
       "      <td>0.3182</td>\n",
       "      <td>0.218</td>\n",
       "      <td>0.424</td>\n",
       "      <td>0.358</td>\n",
       "    </tr>\n",
       "    <tr>\n",
       "      <th>1</th>\n",
       "      <td>2019-10-16</td>\n",
       "      <td>02:03AM</td>\n",
       "      <td>Googles Pixel Gets Unorthodox Zoom From AI</td>\n",
       "      <td>0.0000</td>\n",
       "      <td>0.000</td>\n",
       "      <td>1.000</td>\n",
       "      <td>0.000</td>\n",
       "    </tr>\n",
       "    <tr>\n",
       "      <th>2</th>\n",
       "      <td>2019-10-16</td>\n",
       "      <td>01:02AM</td>\n",
       "      <td>Marijuana stocks, after declines of over 50%, ...</td>\n",
       "      <td>-0.0516</td>\n",
       "      <td>0.098</td>\n",
       "      <td>0.902</td>\n",
       "      <td>0.000</td>\n",
       "    </tr>\n",
       "    <tr>\n",
       "      <th>3</th>\n",
       "      <td>2019-10-16</td>\n",
       "      <td>12:45AM</td>\n",
       "      <td>$30 Billion of Proof That India's Tech Scene I...</td>\n",
       "      <td>0.0000</td>\n",
       "      <td>0.000</td>\n",
       "      <td>1.000</td>\n",
       "      <td>0.000</td>\n",
       "    </tr>\n",
       "    <tr>\n",
       "      <th>4</th>\n",
       "      <td>2019-10-15</td>\n",
       "      <td>09:56PM</td>\n",
       "      <td>House investigators say they have begun receiv...</td>\n",
       "      <td>0.0000</td>\n",
       "      <td>0.000</td>\n",
       "      <td>1.000</td>\n",
       "      <td>0.000</td>\n",
       "    </tr>\n",
       "    <tr>\n",
       "      <th>6</th>\n",
       "      <td>2019-10-15</td>\n",
       "      <td>07:37PM</td>\n",
       "      <td>Google, Reddit defend tech legal protections a...</td>\n",
       "      <td>0.1280</td>\n",
       "      <td>0.000</td>\n",
       "      <td>0.857</td>\n",
       "      <td>0.143</td>\n",
       "    </tr>\n",
       "    <tr>\n",
       "      <th>7</th>\n",
       "      <td>2019-10-15</td>\n",
       "      <td>05:08PM</td>\n",
       "      <td>Latest Victim in Zero Sum World Is a Russian I...</td>\n",
       "      <td>-0.2732</td>\n",
       "      <td>0.189</td>\n",
       "      <td>0.811</td>\n",
       "      <td>0.000</td>\n",
       "    </tr>\n",
       "    <tr>\n",
       "      <th>8</th>\n",
       "      <td>2019-10-15</td>\n",
       "      <td>05:07PM</td>\n",
       "      <td>Robotics company Boston Dynamics selects new W...</td>\n",
       "      <td>0.2732</td>\n",
       "      <td>0.000</td>\n",
       "      <td>0.769</td>\n",
       "      <td>0.231</td>\n",
       "    </tr>\n",
       "    <tr>\n",
       "      <th>9</th>\n",
       "      <td>2019-10-15</td>\n",
       "      <td>04:19PM</td>\n",
       "      <td>With profits slipping, where should you put yo...</td>\n",
       "      <td>0.4404</td>\n",
       "      <td>0.000</td>\n",
       "      <td>0.734</td>\n",
       "      <td>0.266</td>\n",
       "    </tr>\n",
       "    <tr>\n",
       "      <th>10</th>\n",
       "      <td>2019-10-15</td>\n",
       "      <td>04:11PM</td>\n",
       "      <td>Google Stock Rises On Pixel 4 Debut; Big Four ...</td>\n",
       "      <td>0.0000</td>\n",
       "      <td>0.000</td>\n",
       "      <td>1.000</td>\n",
       "      <td>0.000</td>\n",
       "    </tr>\n",
       "    <tr>\n",
       "      <th>11</th>\n",
       "      <td>2019-10-15</td>\n",
       "      <td>04:00PM</td>\n",
       "      <td>Fortnite is back after being sucked into a bla...</td>\n",
       "      <td>-0.4588</td>\n",
       "      <td>0.214</td>\n",
       "      <td>0.786</td>\n",
       "      <td>0.000</td>\n",
       "    </tr>\n",
       "    <tr>\n",
       "      <th>12</th>\n",
       "      <td>2019-10-15</td>\n",
       "      <td>03:43PM</td>\n",
       "      <td>The Dow Is Soaring and Investors Are Loading U...</td>\n",
       "      <td>-0.2023</td>\n",
       "      <td>0.141</td>\n",
       "      <td>0.859</td>\n",
       "      <td>0.000</td>\n",
       "    </tr>\n",
       "    <tr>\n",
       "      <th>13</th>\n",
       "      <td>2019-10-15</td>\n",
       "      <td>03:28PM</td>\n",
       "      <td>Google wants to be more sustainablenevermind a...</td>\n",
       "      <td>0.0000</td>\n",
       "      <td>0.000</td>\n",
       "      <td>1.000</td>\n",
       "      <td>0.000</td>\n",
       "    </tr>\n",
       "    <tr>\n",
       "      <th>14</th>\n",
       "      <td>2019-10-15</td>\n",
       "      <td>03:24PM</td>\n",
       "      <td>Ivy Ross, Google Products VP of Design on Pixe...</td>\n",
       "      <td>0.0000</td>\n",
       "      <td>0.000</td>\n",
       "      <td>1.000</td>\n",
       "      <td>0.000</td>\n",
       "    </tr>\n",
       "    <tr>\n",
       "      <th>15</th>\n",
       "      <td>2019-10-15</td>\n",
       "      <td>03:18PM</td>\n",
       "      <td>Elizabeth Warren Vows to Be First Nominee to F...</td>\n",
       "      <td>0.0000</td>\n",
       "      <td>0.000</td>\n",
       "      <td>1.000</td>\n",
       "      <td>0.000</td>\n",
       "    </tr>\n",
       "    <tr>\n",
       "      <th>16</th>\n",
       "      <td>2019-10-15</td>\n",
       "      <td>02:14PM</td>\n",
       "      <td>Why Apple's Stock Is Soaring as Fellow FAANGs ...</td>\n",
       "      <td>0.0000</td>\n",
       "      <td>0.000</td>\n",
       "      <td>1.000</td>\n",
       "      <td>0.000</td>\n",
       "    </tr>\n",
       "    <tr>\n",
       "      <th>17</th>\n",
       "      <td>2019-10-15</td>\n",
       "      <td>02:00PM</td>\n",
       "      <td>The Highlights From Google's Next Generation P...</td>\n",
       "      <td>0.0000</td>\n",
       "      <td>0.000</td>\n",
       "      <td>1.000</td>\n",
       "      <td>0.000</td>\n",
       "    </tr>\n",
       "    <tr>\n",
       "      <th>18</th>\n",
       "      <td>2019-10-15</td>\n",
       "      <td>01:59PM</td>\n",
       "      <td>Google unveils Pixel 4 and Pixel 4 XL smartpho...</td>\n",
       "      <td>0.0000</td>\n",
       "      <td>0.000</td>\n",
       "      <td>1.000</td>\n",
       "      <td>0.000</td>\n",
       "    </tr>\n",
       "    <tr>\n",
       "      <th>19</th>\n",
       "      <td>2019-10-15</td>\n",
       "      <td>01:27PM</td>\n",
       "      <td>Google unveils Pixel 4 phones with radar, more...</td>\n",
       "      <td>0.0000</td>\n",
       "      <td>0.000</td>\n",
       "      <td>1.000</td>\n",
       "      <td>0.000</td>\n",
       "    </tr>\n",
       "    <tr>\n",
       "      <th>20</th>\n",
       "      <td>2019-10-15</td>\n",
       "      <td>01:01PM</td>\n",
       "      <td>Microsoft Stock Is on a Roll. Its Cloud Busine...</td>\n",
       "      <td>0.0000</td>\n",
       "      <td>0.000</td>\n",
       "      <td>1.000</td>\n",
       "      <td>0.000</td>\n",
       "    </tr>\n",
       "  </tbody>\n",
       "</table>\n",
       "</div>"
      ],
      "text/plain": [
       "          date     time                                           headline  \\\n",
       "0   2019-10-16  03:36AM  Huawei Defies U.S. Ban With Strong Growth in S...   \n",
       "1   2019-10-16  02:03AM         Googles Pixel Gets Unorthodox Zoom From AI   \n",
       "2   2019-10-16  01:02AM  Marijuana stocks, after declines of over 50%, ...   \n",
       "3   2019-10-16  12:45AM  $30 Billion of Proof That India's Tech Scene I...   \n",
       "4   2019-10-15  09:56PM  House investigators say they have begun receiv...   \n",
       "6   2019-10-15  07:37PM  Google, Reddit defend tech legal protections a...   \n",
       "7   2019-10-15  05:08PM  Latest Victim in Zero Sum World Is a Russian I...   \n",
       "8   2019-10-15  05:07PM  Robotics company Boston Dynamics selects new W...   \n",
       "9   2019-10-15  04:19PM  With profits slipping, where should you put yo...   \n",
       "10  2019-10-15  04:11PM  Google Stock Rises On Pixel 4 Debut; Big Four ...   \n",
       "11  2019-10-15  04:00PM  Fortnite is back after being sucked into a bla...   \n",
       "12  2019-10-15  03:43PM  The Dow Is Soaring and Investors Are Loading U...   \n",
       "13  2019-10-15  03:28PM  Google wants to be more sustainablenevermind a...   \n",
       "14  2019-10-15  03:24PM  Ivy Ross, Google Products VP of Design on Pixe...   \n",
       "15  2019-10-15  03:18PM  Elizabeth Warren Vows to Be First Nominee to F...   \n",
       "16  2019-10-15  02:14PM  Why Apple's Stock Is Soaring as Fellow FAANGs ...   \n",
       "17  2019-10-15  02:00PM  The Highlights From Google's Next Generation P...   \n",
       "18  2019-10-15  01:59PM  Google unveils Pixel 4 and Pixel 4 XL smartpho...   \n",
       "19  2019-10-15  01:27PM  Google unveils Pixel 4 phones with radar, more...   \n",
       "20  2019-10-15  01:01PM  Microsoft Stock Is on a Roll. Its Cloud Busine...   \n",
       "\n",
       "    compound    neg    neu    pos  \n",
       "0     0.3182  0.218  0.424  0.358  \n",
       "1     0.0000  0.000  1.000  0.000  \n",
       "2    -0.0516  0.098  0.902  0.000  \n",
       "3     0.0000  0.000  1.000  0.000  \n",
       "4     0.0000  0.000  1.000  0.000  \n",
       "6     0.1280  0.000  0.857  0.143  \n",
       "7    -0.2732  0.189  0.811  0.000  \n",
       "8     0.2732  0.000  0.769  0.231  \n",
       "9     0.4404  0.000  0.734  0.266  \n",
       "10    0.0000  0.000  1.000  0.000  \n",
       "11   -0.4588  0.214  0.786  0.000  \n",
       "12   -0.2023  0.141  0.859  0.000  \n",
       "13    0.0000  0.000  1.000  0.000  \n",
       "14    0.0000  0.000  1.000  0.000  \n",
       "15    0.0000  0.000  1.000  0.000  \n",
       "16    0.0000  0.000  1.000  0.000  \n",
       "17    0.0000  0.000  1.000  0.000  \n",
       "18    0.0000  0.000  1.000  0.000  \n",
       "19    0.0000  0.000  1.000  0.000  \n",
       "20    0.0000  0.000  1.000  0.000  "
      ]
     },
     "execution_count": 34,
     "metadata": {},
     "output_type": "execute_result"
    }
   ],
   "source": [
    "# Count the number of headlines in scored_news (store as integer)\n",
    "num_news_before = len(scored_news)\n",
    "# sum(scored_news.duplicated(subset=['headline']))\n",
    "# Drop duplicates based on ticker and headline\n",
    "scored_news_clean = scored_news.drop_duplicates(subset = ['headline'])\n",
    "# Count number of headlines after dropping duplicates\n",
    "num_news_after = len(scored_news_clean)\n",
    "# Print before and after numbers to get an idea of how we did \n",
    "print(f\"Before we had {num_news_before} headlines, now we have {num_news_after}\")\n",
    "scored_news_clean.head(20)"
   ]
  },
  {
   "cell_type": "markdown",
   "metadata": {},
   "source": [
    "## 7. Prepare data for visualization"
   ]
  },
  {
   "cell_type": "code",
   "execution_count": 39,
   "metadata": {},
   "outputs": [
    {
     "name": "stdout",
     "output_type": "stream",
     "text": [
      "date\n",
      "2019-10-08    0.044723\n",
      "2019-10-09   -0.034050\n",
      "2019-10-10    0.061250\n",
      "2019-10-11    0.164214\n",
      "2019-10-14    0.051386\n",
      "2019-10-15    0.141360\n",
      "Name: compound, dtype: float64\n"
     ]
    }
   ],
   "source": [
    "# Set the index to ticker and date\n",
    "scored_news_date = scored_news_clean.set_index(['date'])\n",
    "# Group by mean of compound score of each date\n",
    "scored_news_date = scored_news_date.groupby('date').mean()\n",
    "print(scored_news_date['compound'])"
   ]
  },
  {
   "cell_type": "code",
   "execution_count": 40,
   "metadata": {},
   "outputs": [
    {
     "data": {
      "text/plain": [
       "<matplotlib.axes._subplots.AxesSubplot at 0x11d6175c0>"
      ]
     },
     "execution_count": 40,
     "metadata": {},
     "output_type": "execute_result"
    },
    {
     "data": {
      "image/png": "[encoded data removed]",
      "text/plain": [
       "<Figure size 432x288 with 1 Axes>"
      ]
     },
     "metadata": {
      "needs_background": "light"
     },
     "output_type": "display_data"
    }
   ],
   "source": [
    "TITLE = \"Mean compound sentiment score for Google in Octuber\"\n",
    "scored_news_date['compound'].plot.bar(title=TITLE)"
   ]
  },
  {
   "cell_type": "markdown",
   "metadata": {},
   "source": [
    "<p>The Compound score is a metric that calculates the sum of all the lexicon ratings which have been normalized between -1(most extreme negative) and +1 (most extreme positive)."
   ]
  },
  {
   "cell_type": "code",
   "execution_count": null,
   "metadata": {},
   "outputs": [],
   "source": [
    "# random forest classifier"
   ]
  },
  {
   "cell_type": "code",
   "execution_count": null,
   "metadata": {},
   "outputs": [],
   "source": [
    "# google prices over 8 days -> target variable"
   ]
  }
 ],
 "metadata": {
  "kernelspec": {
   "display_name": "Python 3",
   "language": "python",
   "name": "python3"
  },
  "language_info": {
   "codemirror_mode": {
    "name": "ipython",
    "version": 3
   },
   "file_extension": ".py",
   "mimetype": "text/x-python",
   "name": "python",
   "nbconvert_exporter": "python",
   "pygments_lexer": "ipython3",
   "version": "3.6.1"
  }
 },
 "nbformat": 4,
 "nbformat_minor": 2
}
