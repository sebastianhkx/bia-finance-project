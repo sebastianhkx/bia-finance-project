{
 "cells": [
  {
   "cell_type": "code",
   "execution_count": null,
   "metadata": {},
   "outputs": [],
   "source": [
    "import scrapy\n",
    "from scrapy.crawler import CrawlerProcess\n",
    "\n",
    "from scrapy.spiders import Spider\n",
    "\n",
    "class chart(spider):\n",
    "    name = \"stock_chart\"\n",
    "    start_urls = ['https://finviz.com/quote.ashx?t=GOOG']\n",
    "    \n",
    "    def parse(self, response):\n",
    "        item = sample_item()\n",
    "        img_urls = []\n",
    "        for img in response.css(\"#chart0\"):\n",
    "            img.urls.append(img.css(a::attr(href)))\n",
    "            <img id=\"chart0\"\n",
    "\n",
    "img#chart0\n",
    "\n",
    "# class stockinfo(scrapy.Spider):\n",
    "#     name = \"stockinfo\"\n",
    "#     start_urls = [\n",
    "#         'https://finviz.com/quote.ashx?t=GOOG',\n",
    "#     ]\n",
    "    \n",
    "#     def parse(self, response):\n",
    "#         for quote in response.css('h1.p'):\n",
    "#             yield {'quote': quote.extract()}\n",
    "\n",
    "# process = CrawlerProcess()\n",
    "# process.crawl(stockinfo)\n",
    "# process.start()"
   ]
  },
  {
   "cell_type": "code",
   "execution_count": null,
   "metadata": {},
   "outputs": [],
   "source": []
  }
 ],
 "metadata": {
  "kernelspec": {
   "display_name": "Python 3",
   "language": "python",
   "name": "python3"
  },
  "language_info": {
   "codemirror_mode": {
    "name": "ipython",
    "version": 3
   },
   "file_extension": ".py",
   "mimetype": "text/x-python",
   "name": "python",
   "nbconvert_exporter": "python",
   "pygments_lexer": "ipython3",
   "version": "3.6.5"
  }
 },
 "nbformat": 4,
 "nbformat_minor": 2
}
